{
  "nbformat": 4,
  "nbformat_minor": 0,
  "metadata": {
    "colab": {
      "name": "Train - Carolyn.ipynb",
      "provenance": [],
      "collapsed_sections": []
    },
    "kernelspec": {
      "name": "python3",
      "display_name": "Python 3"
    },
    "accelerator": "GPU"
  },
  "cells": [
    {
      "cell_type": "code",
      "metadata": {
        "id": "9eNp_4biZRnM"
      },
      "source": [
        "! pip install tflite-model-maker"
      ],
      "execution_count": null,
      "outputs": []
    },
    {
      "cell_type": "code",
      "metadata": {
        "id": "C92EzAMBZf3t"
      },
      "source": [
        "import pandas as pd\n",
        "\n",
        "import tensorflow as tf\n",
        "\n",
        "assert tf.__version__.startswith('2')\n",
        "\n",
        "from tflite_model_maker import configs\n",
        "from tflite_model_maker import model_spec\n",
        "from tflite_model_maker import text_classifier\n",
        "from tflite_model_maker import TextClassifierDataLoader"
      ],
      "execution_count": null,
      "outputs": []
    },
    {
      "cell_type": "code",
      "metadata": {
        "id": "O98wTQrOZvW0"
      },
      "source": [
        "spec = model_spec.get('mobilebert_classifier')"
      ],
      "execution_count": null,
      "outputs": []
    },
    {
      "cell_type": "code",
      "metadata": {
        "id": "UFhYKU3JZyza"
      },
      "source": [
        "train_data = TextClassifierDataLoader.from_csv(\n",
        "    filename='data/train.csv',\n",
        "    text_column='Body',\n",
        "    label_column='Class',\n",
        "    model_spec=spec,\n",
        "    delimiter=',',\n",
        "    is_training=True)"
      ],
      "execution_count": null,
      "outputs": []
    },
    {
      "cell_type": "code",
      "metadata": {
        "id": "61Kz-2fLlWuI"
      },
      "source": [
        "test_df = pd.read_csv('data/data.csv')\n",
        "test_df = test_df.dropna()\n",
        "test_df = test_df[test_df['Class'] != 'skip']\n",
        "test_df.to_csv('data/data_1.csv', index=False)"
      ],
      "execution_count": null,
      "outputs": []
    },
    {
      "cell_type": "code",
      "metadata": {
        "id": "yPpqhPYwlYDj"
      },
      "source": [
        "set(test_df['Class'])"
      ],
      "execution_count": null,
      "outputs": []
    },
    {
      "cell_type": "code",
      "metadata": {
        "id": "LHtIfpOZi4cT"
      },
      "source": [
        "test_data = TextClassifierDataLoader.from_csv(\n",
        "    filename='data/data_1.csv',\n",
        "    text_column='Body',\n",
        "    label_column='Class',\n",
        "    model_spec=spec,\n",
        "    delimiter=',',\n",
        "    is_training=False)"
      ],
      "execution_count": null,
      "outputs": []
    },
    {
      "cell_type": "code",
      "metadata": {
        "id": "ebd-T1aJaAdh"
      },
      "source": [
        "model = text_classifier.create(train_data, model_spec=spec)"
      ],
      "execution_count": null,
      "outputs": []
    },
    {
      "cell_type": "code",
      "metadata": {
        "id": "fZNAtApdaA4T"
      },
      "source": [
        "model.evaluate(test_data)"
      ],
      "execution_count": null,
      "outputs": []
    },
    {
      "cell_type": "code",
      "metadata": {
        "id": "W0bgC3-AaEwf"
      },
      "source": [
        "config = configs.QuantizationConfig.create_dynamic_range_quantization(\n",
        "    optimizations=[tf.lite.Optimize.OPTIMIZE_FOR_LATENCY])\n",
        "config._experimental_new_quantizer = True\n",
        "\n",
        "model.export(export_dir='models/mobilebert/unquantized')\n",
        "model.export(export_dir='models/mobilebert/quantized', quantization_config=config)"
      ],
      "execution_count": null,
      "outputs": []
    },
    {
      "cell_type": "code",
      "metadata": {
        "id": "g0V1x3yOcr3G"
      },
      "source": [
        ""
      ],
      "execution_count": null,
      "outputs": []
    }
  ]
}