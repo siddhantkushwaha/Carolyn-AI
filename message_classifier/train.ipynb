{
  "nbformat": 4,
  "nbformat_minor": 0,
  "metadata": {
    "kernelspec": {
      "display_name": "Python 3",
      "language": "python",
      "name": "python3"
    },
    "language_info": {
      "codemirror_mode": {
        "name": "ipython",
        "version": 3
      },
      "file_extension": ".py",
      "mimetype": "text/x-python",
      "name": "python",
      "nbconvert_exporter": "python",
      "pygments_lexer": "ipython3",
      "version": "3.7.6"
    },
    "colab": {
      "name": "train.ipynb",
      "provenance": [],
      "collapsed_sections": [],
      "include_colab_link": true
    },
    "accelerator": "GPU"
  },
  "cells": [
    {
      "cell_type": "markdown",
      "metadata": {
        "id": "view-in-github",
        "colab_type": "text"
      },
      "source": [
        "<a href=\"https://colab.research.google.com/github/siddhantkushwaha/carolyn_ai/blob/master/message_classifier/train.ipynb\" target=\"_parent\"><img src=\"https://colab.research.google.com/assets/colab-badge.svg\" alt=\"Open In Colab\"/></a>"
      ]
    },
    {
      "cell_type": "code",
      "metadata": {
        "id": "wf33maqEmfeF",
        "colab_type": "code",
        "colab": {}
      },
      "source": [
        "from google.colab import auth\n",
        "auth.authenticate_user()\n",
        "\n",
        "import gspread\n",
        "from oauth2client.client import GoogleCredentials\n",
        "\n",
        "gc = gspread.authorize(GoogleCredentials.get_application_default())"
      ],
      "execution_count": 16,
      "outputs": []
    },
    {
      "cell_type": "code",
      "metadata": {
        "id": "r64NzJwt4doD",
        "colab_type": "code",
        "colab": {}
      },
      "source": [
        "import os\n",
        "import json\n",
        "import random"
      ],
      "execution_count": 17,
      "outputs": []
    },
    {
      "cell_type": "code",
      "metadata": {
        "id": "83cQvcmKk66_",
        "colab_type": "code",
        "colab": {}
      },
      "source": [
        "import numpy as np\n",
        "import pandas as pd\n",
        "\n",
        "from sklearn.preprocessing import LabelEncoder\n",
        "\n",
        "import tensorflow as tf\n",
        "\n",
        "import keras\n",
        "from keras.preprocessing.text import Tokenizer\n",
        "from keras.preprocessing.sequence import pad_sequences\n",
        "from keras.models import Sequential\n",
        "from keras.layers import Dense, Embedding, LSTM, Conv1D, MaxPooling1D, Flatten, Dropout\n",
        "from sklearn.model_selection import train_test_split\n",
        "from keras.utils.np_utils import to_categorical\n",
        "from keras.optimizers import Adam"
      ],
      "execution_count": 18,
      "outputs": []
    },
    {
      "cell_type": "code",
      "metadata": {
        "id": "olMlyuRqmuCP",
        "colab_type": "code",
        "colab": {}
      },
      "source": [
        "worksheet = gc.open('Carolyn SMS Data').sheet1\n",
        "rows = worksheet.get_all_records()"
      ],
      "execution_count": 19,
      "outputs": []
    },
    {
      "cell_type": "code",
      "metadata": {
        "id": "5Cvb-auwm87Z",
        "colab_type": "code",
        "colab": {}
      },
      "source": [
        "dataset = pd.DataFrame.from_records(rows)[['Body', 'Class']]\n",
        "dataset = dataset.dropna()\n",
        "dataset = dataset[dataset['Class'] != '']\n",
        "dataset = dataset[dataset['Class'] != 'skip']\n",
        "dataset['Body'] = dataset['Body'].str.replace('#','0')"
      ],
      "execution_count": 20,
      "outputs": []
    },
    {
      "cell_type": "code",
      "metadata": {
        "id": "vcIXN069pcJK",
        "colab_type": "code",
        "colab": {
          "base_uri": "https://localhost:8080/",
          "height": 255
        },
        "outputId": "604c8c8a-276d-4d11-fd26-0d1459fa2442"
      },
      "source": [
        "dataset.head"
      ],
      "execution_count": 21,
      "outputs": [
        {
          "output_type": "execute_result",
          "data": {
            "text/plain": [
              "<bound method NDFrame.head of                                                    Body   Class\n",
              "0                                0 0 0 0 0 gb 0 apply 0    spam\n",
              "1              0 0 0 0 data 0 gb 0 0 0 0 mb 0 0 myjio 0    spam\n",
              "2                                  0 0 0 0 gb 0 0 fup 0    spam\n",
              "3                        0 0 0 0 rail travel is insured    spam\n",
              "4                0 0 0 data 0 gb 0 0 0 0 mb 0 0 myjio 0    spam\n",
              "...                                                 ...     ...\n",
              "2282  dear 0 your passbook balance against 0 is rs c...  update\n",
              "2283  dear customer 0 is the otp for your login to i...     otp\n",
              "2284  0 is the one time password otp for join inaph ...     otp\n",
              "2285  university of petroleum energy studies dehradu...  update\n",
              "2286                                      lic agent 0 0  update\n",
              "\n",
              "[1957 rows x 2 columns]>"
            ]
          },
          "metadata": {
            "tags": []
          },
          "execution_count": 21
        }
      ]
    },
    {
      "cell_type": "code",
      "metadata": {
        "id": "Tu-JH7fnpevR",
        "colab_type": "code",
        "colab": {
          "base_uri": "https://localhost:8080/",
          "height": 34
        },
        "outputId": "09be7b3f-3185-4e07-d10b-7dcf1223b765"
      },
      "source": [
        "dataset.shape"
      ],
      "execution_count": 22,
      "outputs": [
        {
          "output_type": "execute_result",
          "data": {
            "text/plain": [
              "(1957, 2)"
            ]
          },
          "metadata": {
            "tags": []
          },
          "execution_count": 22
        }
      ]
    },
    {
      "cell_type": "code",
      "metadata": {
        "id": "g0EYfUAnk67F",
        "colab_type": "code",
        "colab": {
          "base_uri": "https://localhost:8080/",
          "height": 102
        },
        "outputId": "ee01dc9a-9b0d-4f4a-bf72-76b0e6291851"
      },
      "source": [
        "dataset['Class'].value_counts()"
      ],
      "execution_count": 23,
      "outputs": [
        {
          "output_type": "execute_result",
          "data": {
            "text/plain": [
              "spam           1138\n",
              "update          345\n",
              "transaction     309\n",
              "otp             165\n",
              "Name: Class, dtype: int64"
            ]
          },
          "metadata": {
            "tags": []
          },
          "execution_count": 23
        }
      ]
    },
    {
      "cell_type": "code",
      "metadata": {
        "id": "fNMZUtkTk67H",
        "colab_type": "code",
        "colab": {
          "base_uri": "https://localhost:8080/",
          "height": 34
        },
        "outputId": "3fed2213-a9c2-416e-b882-93fb46cf1e55"
      },
      "source": [
        "encoder = LabelEncoder()\n",
        "encoder.fit(dataset['Class'])\n",
        "dataset['Class_encoded'] = LabelEncoder().fit_transform(dataset['Class'])\n",
        "\n",
        "classes = encoder.classes_\n",
        "print(classes)"
      ],
      "execution_count": 24,
      "outputs": [
        {
          "output_type": "stream",
          "text": [
            "['otp' 'spam' 'transaction' 'update']\n"
          ],
          "name": "stdout"
        }
      ]
    },
    {
      "cell_type": "code",
      "metadata": {
        "id": "TMC0Eepsk67J",
        "colab_type": "code",
        "colab": {
          "base_uri": "https://localhost:8080/",
          "height": 187
        },
        "outputId": "293d2de2-a0f5-49c1-f8b3-764fba90c99f"
      },
      "source": [
        "tokenizer = Tokenizer(nb_words=3000, lower=True, split=' ')\n",
        "tokenizer.fit_on_texts(dataset['Body'].values)\n",
        "\n",
        "maxlen = int(np.mean([len(list(x.split(' '))) for x in dataset['Body']]))\n",
        "print(maxlen)\n",
        "# maxlen = 20\n",
        "\n",
        "X = tokenizer.texts_to_sequences(dataset['Body'].values)\n",
        "X = pad_sequences(X, padding='post', maxlen=maxlen)\n",
        "X"
      ],
      "execution_count": 25,
      "outputs": [
        {
          "output_type": "stream",
          "text": [
            "23\n"
          ],
          "name": "stdout"
        },
        {
          "output_type": "stream",
          "text": [
            "/usr/local/lib/python3.6/dist-packages/keras_preprocessing/text.py:180: UserWarning: The `nb_words` argument in `Tokenizer` has been renamed `num_words`.\n",
            "  warnings.warn('The `nb_words` argument in `Tokenizer` '\n"
          ],
          "name": "stderr"
        },
        {
          "output_type": "execute_result",
          "data": {
            "text/plain": [
              "array([[   1,    1,    1, ...,    0,    0,    0],\n",
              "       [   1,    1,    1, ...,    0,    0,    0],\n",
              "       [   1,    1,    1, ...,    0,    0,    0],\n",
              "       ...,\n",
              "       [   1,    6,    9, ...,    0,    0,    0],\n",
              "       [ 490,    8, 1046, ...,    0,    0,    0],\n",
              "       [ 907,  396,    1, ...,    0,    0,    0]], dtype=int32)"
            ]
          },
          "metadata": {
            "tags": []
          },
          "execution_count": 25
        }
      ]
    },
    {
      "cell_type": "code",
      "metadata": {
        "id": "ebkX5Qcusn1q",
        "colab_type": "code",
        "colab": {
          "base_uri": "https://localhost:8080/",
          "height": 34
        },
        "outputId": "fa827ed1-df78-4d6f-9f65-71e3829c6195"
      },
      "source": [
        "vocab_size = (max(map(max, X))) + 1\n",
        "print(vocab_size)"
      ],
      "execution_count": 26,
      "outputs": [
        {
          "output_type": "stream",
          "text": [
            "3000\n"
          ],
          "name": "stdout"
        }
      ]
    },
    {
      "cell_type": "code",
      "metadata": {
        "id": "AlpHYAa6ri3K",
        "colab_type": "code",
        "colab": {
          "base_uri": "https://localhost:8080/",
          "height": 136
        },
        "outputId": "ea83eee6-0d54-4b88-eeb9-6214c31b3c10"
      },
      "source": [
        "Y = to_categorical(np.asarray(dataset['Class_encoded']), 4)\n",
        "Y"
      ],
      "execution_count": 27,
      "outputs": [
        {
          "output_type": "execute_result",
          "data": {
            "text/plain": [
              "array([[0., 1., 0., 0.],\n",
              "       [0., 1., 0., 0.],\n",
              "       [0., 1., 0., 0.],\n",
              "       ...,\n",
              "       [1., 0., 0., 0.],\n",
              "       [0., 0., 0., 1.],\n",
              "       [0., 0., 0., 1.]], dtype=float32)"
            ]
          },
          "metadata": {
            "tags": []
          },
          "execution_count": 27
        }
      ]
    },
    {
      "cell_type": "code",
      "metadata": {
        "id": "zJtZDa0vk67O",
        "colab_type": "code",
        "colab": {}
      },
      "source": [
        "X_train, X_valid, Y_train, Y_valid = train_test_split(X, Y, test_size = 0.20, random_state = random.randint(1, 1000))"
      ],
      "execution_count": 28,
      "outputs": []
    },
    {
      "cell_type": "code",
      "metadata": {
        "id": "KWcBpVfE6EPk",
        "colab_type": "code",
        "colab": {}
      },
      "source": [
        "batch_size = 32\n",
        "embed_dim = 200"
      ],
      "execution_count": 29,
      "outputs": []
    },
    {
      "cell_type": "code",
      "metadata": {
        "id": "TdnXn9wt694K",
        "colab_type": "code",
        "colab": {}
      },
      "source": [
        "def create_lstm_model():\n",
        "  lstm_out = 196\n",
        "  model = Sequential()\n",
        "  model.add(Embedding(vocab_size, embed_dim, input_length = X_train.shape[1]))\n",
        "  model.add(LSTM(lstm_out))\n",
        "  model.add(Dense(4, activation='softmax'))\n",
        "  model.compile(loss = 'categorical_crossentropy', optimizer='adam', metrics = ['accuracy'])\n",
        "  return model"
      ],
      "execution_count": 30,
      "outputs": []
    },
    {
      "cell_type": "code",
      "metadata": {
        "id": "_IaEDVyYu3_K",
        "colab_type": "code",
        "colab": {}
      },
      "source": [
        "def create_cnn_model():\n",
        "  model = Sequential()\n",
        "  model.add(Embedding(vocab_size, embed_dim, input_length = maxlen))\n",
        "  model.add(Conv1D(128, 5, activation='relu',padding='same'))\n",
        "  model.add(MaxPooling1D(pool_size=2))\n",
        "  model.add(Conv1D(256, 5, activation='relu',padding='same'))\n",
        "  model.add(MaxPooling1D(pool_size=2))\n",
        "  model.add(Conv1D(512, 3, activation='relu',padding='same'))\n",
        "  model.add(MaxPooling1D(pool_size=2))\n",
        "  model.add(Flatten())\n",
        "  model.add(Dense(128, activation='relu'))\n",
        "  model.add(Dropout(0.5))\n",
        "  model.add(Dense(4, activation='sigmoid'))\n",
        "  model.compile(optimizer='adam', loss='categorical_crossentropy', metrics=['accuracy'])\n",
        "\n",
        "  return model"
      ],
      "execution_count": 31,
      "outputs": []
    },
    {
      "cell_type": "code",
      "metadata": {
        "id": "iUY1gmPdACmK",
        "colab_type": "code",
        "colab": {}
      },
      "source": [
        "def get_text_vector(texts):\n",
        "  _texts = tokenizer.texts_to_sequences(texts)\n",
        "  _texts = pad_sequences(_texts, padding='post', maxlen= maxlen)\n",
        "  return _texts"
      ],
      "execution_count": 32,
      "outputs": []
    },
    {
      "cell_type": "code",
      "metadata": {
        "id": "IoYS2Sl_7iCq",
        "colab_type": "code",
        "colab": {}
      },
      "source": [
        "def evaluate_and_get(model_getter, epochs=20):\n",
        "\n",
        "  # get model\n",
        "  model = model_getter()\n",
        "  model.summary()\n",
        "\n",
        "  # train\n",
        "  model.fit(x=X_train, y=Y_train, batch_size=batch_size, epochs=epochs)\n",
        "\n",
        "  # evaluate\n",
        "  model.evaluate(X_valid, Y_valid, verbose=2, batch_size=batch_size)\n",
        "  \n",
        "  return model"
      ],
      "execution_count": 33,
      "outputs": []
    },
    {
      "cell_type": "code",
      "metadata": {
        "id": "xHv4kzxY8hnK",
        "colab_type": "code",
        "colab": {
          "base_uri": "https://localhost:8080/",
          "height": 952
        },
        "outputId": "e826a781-2783-4a42-f84c-98859ab2e5a6"
      },
      "source": [
        "lstm_model = evaluate_and_get(create_lstm_model, epochs=20)"
      ],
      "execution_count": 34,
      "outputs": [
        {
          "output_type": "stream",
          "text": [
            "Model: \"sequential\"\n",
            "_________________________________________________________________\n",
            "Layer (type)                 Output Shape              Param #   \n",
            "=================================================================\n",
            "embedding (Embedding)        (None, 23, 200)           600000    \n",
            "_________________________________________________________________\n",
            "lstm (LSTM)                  (None, 196)               311248    \n",
            "_________________________________________________________________\n",
            "dense (Dense)                (None, 4)                 788       \n",
            "=================================================================\n",
            "Total params: 912,036\n",
            "Trainable params: 912,036\n",
            "Non-trainable params: 0\n",
            "_________________________________________________________________\n",
            "Epoch 1/20\n",
            "49/49 [==============================] - 1s 17ms/step - loss: 0.8835 - accuracy: 0.6511\n",
            "Epoch 2/20\n",
            "49/49 [==============================] - 1s 16ms/step - loss: 0.4979 - accuracy: 0.8032\n",
            "Epoch 3/20\n",
            "49/49 [==============================] - 1s 16ms/step - loss: 0.2472 - accuracy: 0.9105\n",
            "Epoch 4/20\n",
            "49/49 [==============================] - 1s 16ms/step - loss: 0.1365 - accuracy: 0.9585\n",
            "Epoch 5/20\n",
            "49/49 [==============================] - 1s 16ms/step - loss: 0.0884 - accuracy: 0.9687\n",
            "Epoch 6/20\n",
            "49/49 [==============================] - 1s 17ms/step - loss: 0.0912 - accuracy: 0.9732\n",
            "Epoch 7/20\n",
            "49/49 [==============================] - 1s 16ms/step - loss: 0.1040 - accuracy: 0.9738\n",
            "Epoch 8/20\n",
            "49/49 [==============================] - 1s 17ms/step - loss: 0.0640 - accuracy: 0.9821\n",
            "Epoch 9/20\n",
            "49/49 [==============================] - 1s 17ms/step - loss: 0.0463 - accuracy: 0.9840\n",
            "Epoch 10/20\n",
            "49/49 [==============================] - 1s 17ms/step - loss: 0.0775 - accuracy: 0.9776\n",
            "Epoch 11/20\n",
            "49/49 [==============================] - 1s 17ms/step - loss: 0.0314 - accuracy: 0.9917\n",
            "Epoch 12/20\n",
            "49/49 [==============================] - 1s 17ms/step - loss: 0.0245 - accuracy: 0.9911\n",
            "Epoch 13/20\n",
            "49/49 [==============================] - 1s 16ms/step - loss: 0.0410 - accuracy: 0.9859\n",
            "Epoch 14/20\n",
            "49/49 [==============================] - 1s 17ms/step - loss: 0.0183 - accuracy: 0.9942\n",
            "Epoch 15/20\n",
            "49/49 [==============================] - 1s 17ms/step - loss: 0.0242 - accuracy: 0.9930\n",
            "Epoch 16/20\n",
            "49/49 [==============================] - 1s 17ms/step - loss: 0.0142 - accuracy: 0.9949\n",
            "Epoch 17/20\n",
            "49/49 [==============================] - 1s 17ms/step - loss: 0.0138 - accuracy: 0.9955\n",
            "Epoch 18/20\n",
            "49/49 [==============================] - 1s 17ms/step - loss: 0.0141 - accuracy: 0.9936\n",
            "Epoch 19/20\n",
            "49/49 [==============================] - 1s 16ms/step - loss: 0.0126 - accuracy: 0.9955\n",
            "Epoch 20/20\n",
            "49/49 [==============================] - 1s 17ms/step - loss: 0.0166 - accuracy: 0.9942\n",
            "13/13 - 0s - loss: 0.6603 - accuracy: 0.8648\n"
          ],
          "name": "stdout"
        }
      ]
    },
    {
      "cell_type": "code",
      "metadata": {
        "id": "G5J1vIEqBTMU",
        "colab_type": "code",
        "colab": {
          "base_uri": "https://localhost:8080/",
          "height": 34
        },
        "outputId": "1f4c85f0-60a2-4aa9-cbf3-c3cfdd863276"
      },
      "source": [
        "sample = 'your google verification code is 0'\n",
        "_text = get_text_vector([sample])\n",
        "\n",
        "predictions = lstm_model.predict(_text)\n",
        "print(sample, classes[np.argmax(predictions)])"
      ],
      "execution_count": 36,
      "outputs": [
        {
          "output_type": "stream",
          "text": [
            "your google verification code is 0 otp\n"
          ],
          "name": "stdout"
        }
      ]
    },
    {
      "cell_type": "code",
      "metadata": {
        "id": "bN8G4-gn82ia",
        "colab_type": "code",
        "colab": {
          "base_uri": "https://localhost:8080/",
          "height": 1000
        },
        "outputId": "34704d01-a68d-45c0-b56a-74f6758628e6"
      },
      "source": [
        "cnn_model = evaluate_and_get(create_cnn_model, epochs=20)"
      ],
      "execution_count": 37,
      "outputs": [
        {
          "output_type": "stream",
          "text": [
            "Model: \"sequential_1\"\n",
            "_________________________________________________________________\n",
            "Layer (type)                 Output Shape              Param #   \n",
            "=================================================================\n",
            "embedding_1 (Embedding)      (None, 23, 200)           600000    \n",
            "_________________________________________________________________\n",
            "conv1d (Conv1D)              (None, 23, 128)           128128    \n",
            "_________________________________________________________________\n",
            "max_pooling1d (MaxPooling1D) (None, 11, 128)           0         \n",
            "_________________________________________________________________\n",
            "conv1d_1 (Conv1D)            (None, 11, 256)           164096    \n",
            "_________________________________________________________________\n",
            "max_pooling1d_1 (MaxPooling1 (None, 5, 256)            0         \n",
            "_________________________________________________________________\n",
            "conv1d_2 (Conv1D)            (None, 5, 512)            393728    \n",
            "_________________________________________________________________\n",
            "max_pooling1d_2 (MaxPooling1 (None, 2, 512)            0         \n",
            "_________________________________________________________________\n",
            "flatten (Flatten)            (None, 1024)              0         \n",
            "_________________________________________________________________\n",
            "dense_1 (Dense)              (None, 128)               131200    \n",
            "_________________________________________________________________\n",
            "dropout (Dropout)            (None, 128)               0         \n",
            "_________________________________________________________________\n",
            "dense_2 (Dense)              (None, 4)                 516       \n",
            "=================================================================\n",
            "Total params: 1,417,668\n",
            "Trainable params: 1,417,668\n",
            "Non-trainable params: 0\n",
            "_________________________________________________________________\n",
            "Epoch 1/20\n",
            "49/49 [==============================] - 1s 17ms/step - loss: 0.9673 - accuracy: 0.5783\n",
            "Epoch 2/20\n",
            "49/49 [==============================] - 1s 13ms/step - loss: 0.7055 - accuracy: 0.6984\n",
            "Epoch 3/20\n",
            "49/49 [==============================] - 1s 14ms/step - loss: 0.5235 - accuracy: 0.7815\n",
            "Epoch 4/20\n",
            "49/49 [==============================] - 1s 14ms/step - loss: 0.3390 - accuracy: 0.8665\n",
            "Epoch 5/20\n",
            "49/49 [==============================] - 1s 14ms/step - loss: 0.1671 - accuracy: 0.9527\n",
            "Epoch 6/20\n",
            "49/49 [==============================] - 1s 15ms/step - loss: 0.1247 - accuracy: 0.9674\n",
            "Epoch 7/20\n",
            "49/49 [==============================] - 1s 15ms/step - loss: 0.0604 - accuracy: 0.9853\n",
            "Epoch 8/20\n",
            "49/49 [==============================] - 1s 15ms/step - loss: 0.0600 - accuracy: 0.9872\n",
            "Epoch 9/20\n",
            "49/49 [==============================] - 1s 15ms/step - loss: 0.0399 - accuracy: 0.9891\n",
            "Epoch 10/20\n",
            "49/49 [==============================] - 1s 15ms/step - loss: 0.0307 - accuracy: 0.9911\n",
            "Epoch 11/20\n",
            "49/49 [==============================] - 1s 15ms/step - loss: 0.0175 - accuracy: 0.9942\n",
            "Epoch 12/20\n",
            "49/49 [==============================] - 1s 16ms/step - loss: 0.0242 - accuracy: 0.9930\n",
            "Epoch 13/20\n",
            "49/49 [==============================] - 1s 15ms/step - loss: 0.0191 - accuracy: 0.9936\n",
            "Epoch 14/20\n",
            "49/49 [==============================] - 1s 15ms/step - loss: 0.0235 - accuracy: 0.9923\n",
            "Epoch 15/20\n",
            "49/49 [==============================] - 1s 15ms/step - loss: 0.0340 - accuracy: 0.9904\n",
            "Epoch 16/20\n",
            "49/49 [==============================] - 1s 15ms/step - loss: 0.0223 - accuracy: 0.9936\n",
            "Epoch 17/20\n",
            "49/49 [==============================] - 1s 15ms/step - loss: 0.0129 - accuracy: 0.9955\n",
            "Epoch 18/20\n",
            "49/49 [==============================] - 1s 15ms/step - loss: 0.0118 - accuracy: 0.9962\n",
            "Epoch 19/20\n",
            "49/49 [==============================] - 1s 15ms/step - loss: 0.0074 - accuracy: 0.9955\n",
            "Epoch 20/20\n",
            "49/49 [==============================] - 1s 15ms/step - loss: 0.0178 - accuracy: 0.9917\n",
            "13/13 - 0s - loss: 1.1350 - accuracy: 0.8546\n"
          ],
          "name": "stdout"
        }
      ]
    },
    {
      "cell_type": "code",
      "metadata": {
        "id": "JftYy4mhBcdF",
        "colab_type": "code",
        "colab": {
          "base_uri": "https://localhost:8080/",
          "height": 34
        },
        "outputId": "d4566574-2dba-4349-87c9-a958b0f83115"
      },
      "source": [
        "sample = 'your google verification code is 0'\n",
        "_text = get_text_vector([sample])\n",
        "\n",
        "predictions = cnn_model.predict(_text)\n",
        "print(sample, classes[np.argmax(predictions)])"
      ],
      "execution_count": 38,
      "outputs": [
        {
          "output_type": "stream",
          "text": [
            "your google verification code is 0 otp\n"
          ],
          "name": "stdout"
        }
      ]
    },
    {
      "cell_type": "markdown",
      "metadata": {
        "id": "aAs93JSNXTW0",
        "colab_type": "text"
      },
      "source": [
        "Convert CNN model to TFLite, LSTMs won't work"
      ]
    },
    {
      "cell_type": "code",
      "metadata": {
        "id": "sUew56VK9lS7",
        "colab_type": "code",
        "colab": {
          "base_uri": "https://localhost:8080/",
          "height": 156
        },
        "outputId": "691e0dab-b886-4618-81e1-6341fb3f4154"
      },
      "source": [
        "converter = tf.lite.TFLiteConverter.from_keras_model(cnn_model)\n",
        "tflite_model = converter.convert()"
      ],
      "execution_count": 39,
      "outputs": [
        {
          "output_type": "stream",
          "text": [
            "WARNING:tensorflow:From /usr/local/lib/python3.6/dist-packages/tensorflow/python/training/tracking/tracking.py:111: Model.state_updates (from tensorflow.python.keras.engine.training) is deprecated and will be removed in a future version.\n",
            "Instructions for updating:\n",
            "This property should not be used in TensorFlow 2.0, as updates are applied automatically.\n",
            "WARNING:tensorflow:From /usr/local/lib/python3.6/dist-packages/tensorflow/python/training/tracking/tracking.py:111: Layer.updates (from tensorflow.python.keras.engine.base_layer) is deprecated and will be removed in a future version.\n",
            "Instructions for updating:\n",
            "This property should not be used in TensorFlow 2.0, as updates are applied automatically.\n",
            "INFO:tensorflow:Assets written to: /tmp/tmprtekkqnc/assets\n"
          ],
          "name": "stdout"
        }
      ]
    },
    {
      "cell_type": "code",
      "metadata": {
        "id": "wbIQ4YLz9-Kr",
        "colab_type": "code",
        "colab": {}
      },
      "source": [
        "with open('model.tflite', 'wb') as f:\n",
        "  f.write(tflite_model)"
      ],
      "execution_count": 40,
      "outputs": []
    },
    {
      "cell_type": "markdown",
      "metadata": {
        "id": "bY8THMAx_f8i",
        "colab_type": "text"
      },
      "source": [
        "Evaluate TFLite model :D"
      ]
    },
    {
      "cell_type": "code",
      "metadata": {
        "id": "_Zxyva4hB1v8",
        "colab_type": "code",
        "colab": {
          "base_uri": "https://localhost:8080/",
          "height": 35
        },
        "outputId": "1951329b-149f-492f-8a92-fb7f58f953c4"
      },
      "source": [
        "interpreter = tf.lite.Interpreter(model_path=\"model.tflite\")\n",
        "interpreter.allocate_tensors()\n",
        "\n",
        "input_details = interpreter.get_input_details()\n",
        "output_details = interpreter.get_output_details()\n",
        "\n",
        "input_shape = input_details[0]['shape']\n",
        "\n",
        "sample = 'your google verification code is 0'\n",
        "_text = get_text_vector([sample])\n",
        "\n",
        "interpreter.set_tensor(input_details[0]['index'], _text.astype(np.float32))\n",
        "\n",
        "interpreter.invoke()\n",
        " \n",
        "output_data = interpreter.get_tensor(output_details[0]['index'])\n",
        "classes[np.argmax(output_data)]"
      ],
      "execution_count": 41,
      "outputs": [
        {
          "output_type": "execute_result",
          "data": {
            "application/vnd.google.colaboratory.intrinsic+json": {
              "type": "string"
            },
            "text/plain": [
              "'otp'"
            ]
          },
          "metadata": {
            "tags": []
          },
          "execution_count": 41
        }
      ]
    },
    {
      "cell_type": "code",
      "metadata": {
        "id": "auN3rMv7XmXc",
        "colab_type": "code",
        "colab": {}
      },
      "source": [
        "meta = {\n",
        "    'maxlen': maxlen,\n",
        "    'classes': list(classes),\n",
        "    'index': tokenizer.word_index\n",
        "}"
      ],
      "execution_count": 42,
      "outputs": []
    },
    {
      "cell_type": "code",
      "metadata": {
        "id": "PErmkoZQN-Dq",
        "colab_type": "code",
        "colab": {}
      },
      "source": [
        "with open('meta.json', 'w') as f:\n",
        "  f.write(json.dumps(meta))"
      ],
      "execution_count": 43,
      "outputs": []
    },
    {
      "cell_type": "code",
      "metadata": {
        "id": "YuGQ-ND6BM4N",
        "colab_type": "code",
        "colab": {}
      },
      "source": [
        ""
      ],
      "execution_count": 43,
      "outputs": []
    }
  ]
}