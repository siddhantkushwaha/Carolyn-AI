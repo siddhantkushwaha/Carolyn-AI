{
  "nbformat": 4,
  "nbformat_minor": 0,
  "metadata": {
    "kernelspec": {
      "display_name": "Python 3",
      "language": "python",
      "name": "python3"
    },
    "language_info": {
      "codemirror_mode": {
        "name": "ipython",
        "version": 3
      },
      "file_extension": ".py",
      "mimetype": "text/x-python",
      "name": "python",
      "nbconvert_exporter": "python",
      "pygments_lexer": "ipython3",
      "version": "3.7.6"
    },
    "colab": {
      "name": "train.ipynb",
      "provenance": [],
      "collapsed_sections": []
    },
    "accelerator": "GPU"
  },
  "cells": [
    {
      "cell_type": "code",
      "metadata": {
        "id": "wf33maqEmfeF",
        "colab_type": "code",
        "colab": {}
      },
      "source": [
        "from google.colab import auth\n",
        "auth.authenticate_user()\n",
        "\n",
        "import gspread\n",
        "from oauth2client.client import GoogleCredentials\n",
        "\n",
        "gc = gspread.authorize(GoogleCredentials.get_application_default())"
      ],
      "execution_count": 21,
      "outputs": []
    },
    {
      "cell_type": "code",
      "metadata": {
        "id": "r64NzJwt4doD",
        "colab_type": "code",
        "colab": {}
      },
      "source": [
        "import os\n",
        "import json\n",
        "import random"
      ],
      "execution_count": 22,
      "outputs": []
    },
    {
      "cell_type": "code",
      "metadata": {
        "id": "83cQvcmKk66_",
        "colab_type": "code",
        "colab": {}
      },
      "source": [
        "import numpy as np\n",
        "import pandas as pd\n",
        "\n",
        "from sklearn.preprocessing import LabelEncoder\n",
        "\n",
        "import tensorflow as tf\n",
        "\n",
        "import keras\n",
        "from keras.preprocessing.text import Tokenizer\n",
        "from keras.preprocessing.sequence import pad_sequences\n",
        "from keras.models import Sequential\n",
        "from keras.layers import Dense, Embedding, LSTM, Conv1D, MaxPooling1D, Flatten, Dropout\n",
        "from sklearn.model_selection import train_test_split\n",
        "from keras.utils.np_utils import to_categorical\n",
        "from keras.optimizers import Adam"
      ],
      "execution_count": 23,
      "outputs": []
    },
    {
      "cell_type": "code",
      "metadata": {
        "id": "olMlyuRqmuCP",
        "colab_type": "code",
        "colab": {}
      },
      "source": [
        "worksheet = gc.open('Carolyn SMS Data').sheet1\n",
        "rows = worksheet.get_all_records()"
      ],
      "execution_count": 24,
      "outputs": []
    },
    {
      "cell_type": "code",
      "metadata": {
        "id": "5Cvb-auwm87Z",
        "colab_type": "code",
        "colab": {}
      },
      "source": [
        "dataset = pd.DataFrame.from_records(rows)[['Body', 'Class']]\n",
        "dataset = dataset.dropna()\n",
        "dataset = dataset[dataset['Class'] != '']\n",
        "dataset = dataset[dataset['Class'] != 'skip']\n",
        "dataset['Body'] = dataset['Body'].str.replace('#','0')"
      ],
      "execution_count": 7,
      "outputs": []
    },
    {
      "cell_type": "code",
      "metadata": {
        "id": "vcIXN069pcJK",
        "colab_type": "code",
        "colab": {
          "base_uri": "https://localhost:8080/",
          "height": 255
        },
        "outputId": "e0669fb3-5741-45da-eadb-c2e5fb903dab"
      },
      "source": [
        "dataset.head"
      ],
      "execution_count": 25,
      "outputs": [
        {
          "output_type": "execute_result",
          "data": {
            "text/plain": [
              "<bound method NDFrame.head of                                                    Body   Class  Class_encoded\n",
              "0                                0 0 0 0 0 gb 0 apply 0    spam              1\n",
              "1              0 0 0 0 data 0 gb 0 0 0 0 mb 0 0 myjio 0    spam              1\n",
              "2                                  0 0 0 0 gb 0 0 fup 0    spam              1\n",
              "3                        0 0 0 0 rail travel is insured    spam              1\n",
              "4                0 0 0 data 0 gb 0 0 0 0 mb 0 0 myjio 0    spam              1\n",
              "...                                                 ...     ...            ...\n",
              "2282  dear 0 your passbook balance against 0 is rs c...  update              3\n",
              "2283  dear customer 0 is the otp for your login to i...     otp              0\n",
              "2284  0 is the one time password otp for join inaph ...     otp              0\n",
              "2285  university of petroleum energy studies dehradu...  update              3\n",
              "2286                                      lic agent 0 0  update              3\n",
              "\n",
              "[1957 rows x 3 columns]>"
            ]
          },
          "metadata": {
            "tags": []
          },
          "execution_count": 25
        }
      ]
    },
    {
      "cell_type": "code",
      "metadata": {
        "id": "Tu-JH7fnpevR",
        "colab_type": "code",
        "colab": {
          "base_uri": "https://localhost:8080/",
          "height": 34
        },
        "outputId": "6fc675a2-3f7f-4098-8b44-72982cb9b09d"
      },
      "source": [
        "dataset.shape"
      ],
      "execution_count": 26,
      "outputs": [
        {
          "output_type": "execute_result",
          "data": {
            "text/plain": [
              "(1957, 3)"
            ]
          },
          "metadata": {
            "tags": []
          },
          "execution_count": 26
        }
      ]
    },
    {
      "cell_type": "code",
      "metadata": {
        "id": "g0EYfUAnk67F",
        "colab_type": "code",
        "colab": {
          "base_uri": "https://localhost:8080/",
          "height": 102
        },
        "outputId": "b1e378d8-13da-4e57-cf24-9abb99c94a9b"
      },
      "source": [
        "dataset['Class'].value_counts()"
      ],
      "execution_count": 27,
      "outputs": [
        {
          "output_type": "execute_result",
          "data": {
            "text/plain": [
              "spam           1138\n",
              "update          345\n",
              "transaction     309\n",
              "otp             165\n",
              "Name: Class, dtype: int64"
            ]
          },
          "metadata": {
            "tags": []
          },
          "execution_count": 27
        }
      ]
    },
    {
      "cell_type": "code",
      "metadata": {
        "id": "fNMZUtkTk67H",
        "colab_type": "code",
        "colab": {
          "base_uri": "https://localhost:8080/",
          "height": 34
        },
        "outputId": "00080bf1-c5e4-4611-c11a-0b222f1f2cef"
      },
      "source": [
        "encoder = LabelEncoder()\n",
        "encoder.fit(dataset['Class'])\n",
        "dataset['Class_encoded'] = LabelEncoder().fit_transform(dataset['Class'])\n",
        "\n",
        "classes = encoder.classes_\n",
        "print(classes)"
      ],
      "execution_count": 28,
      "outputs": [
        {
          "output_type": "stream",
          "text": [
            "['otp' 'spam' 'transaction' 'update']\n"
          ],
          "name": "stdout"
        }
      ]
    },
    {
      "cell_type": "code",
      "metadata": {
        "id": "TMC0Eepsk67J",
        "colab_type": "code",
        "colab": {
          "base_uri": "https://localhost:8080/",
          "height": 187
        },
        "outputId": "6dca9b08-4a08-4108-b5f0-147f1b274531"
      },
      "source": [
        "tokenizer = Tokenizer(nb_words=3000, lower=True, split=' ')\n",
        "tokenizer.fit_on_texts(dataset['Body'].values)\n",
        "\n",
        "maxlen = int(np.mean([len(list(x.split(' '))) for x in dataset['Body']]))\n",
        "print(maxlen)\n",
        "# maxlen = 20\n",
        "\n",
        "X = tokenizer.texts_to_sequences(dataset['Body'].values)\n",
        "X = pad_sequences(X, padding='post', maxlen=maxlen)\n",
        "X"
      ],
      "execution_count": 29,
      "outputs": [
        {
          "output_type": "stream",
          "text": [
            "23\n"
          ],
          "name": "stdout"
        },
        {
          "output_type": "stream",
          "text": [
            "/usr/local/lib/python3.6/dist-packages/keras_preprocessing/text.py:180: UserWarning: The `nb_words` argument in `Tokenizer` has been renamed `num_words`.\n",
            "  warnings.warn('The `nb_words` argument in `Tokenizer` '\n"
          ],
          "name": "stderr"
        },
        {
          "output_type": "execute_result",
          "data": {
            "text/plain": [
              "array([[   1,    1,    1, ...,    0,    0,    0],\n",
              "       [   1,    1,    1, ...,    0,    0,    0],\n",
              "       [   1,    1,    1, ...,    0,    0,    0],\n",
              "       ...,\n",
              "       [   1,    6,    9, ...,    0,    0,    0],\n",
              "       [ 490,    8, 1046, ...,    0,    0,    0],\n",
              "       [ 907,  396,    1, ...,    0,    0,    0]], dtype=int32)"
            ]
          },
          "metadata": {
            "tags": []
          },
          "execution_count": 29
        }
      ]
    },
    {
      "cell_type": "code",
      "metadata": {
        "id": "ebkX5Qcusn1q",
        "colab_type": "code",
        "colab": {
          "base_uri": "https://localhost:8080/",
          "height": 34
        },
        "outputId": "824eeeec-3277-4ae4-eb6a-4e258ad5f9cc"
      },
      "source": [
        "vocab_size = (max(map(max, X))) + 1\n",
        "print(vocab_size)"
      ],
      "execution_count": 30,
      "outputs": [
        {
          "output_type": "stream",
          "text": [
            "3000\n"
          ],
          "name": "stdout"
        }
      ]
    },
    {
      "cell_type": "code",
      "metadata": {
        "id": "AlpHYAa6ri3K",
        "colab_type": "code",
        "colab": {
          "base_uri": "https://localhost:8080/",
          "height": 136
        },
        "outputId": "23e5f2f7-8851-402b-ed68-28eed58174c7"
      },
      "source": [
        "Y = to_categorical(np.asarray(dataset['Class_encoded']), 4)\n",
        "Y"
      ],
      "execution_count": 31,
      "outputs": [
        {
          "output_type": "execute_result",
          "data": {
            "text/plain": [
              "array([[0., 1., 0., 0.],\n",
              "       [0., 1., 0., 0.],\n",
              "       [0., 1., 0., 0.],\n",
              "       ...,\n",
              "       [1., 0., 0., 0.],\n",
              "       [0., 0., 0., 1.],\n",
              "       [0., 0., 0., 1.]], dtype=float32)"
            ]
          },
          "metadata": {
            "tags": []
          },
          "execution_count": 31
        }
      ]
    },
    {
      "cell_type": "code",
      "metadata": {
        "id": "zJtZDa0vk67O",
        "colab_type": "code",
        "colab": {}
      },
      "source": [
        "X_train, X_valid, Y_train, Y_valid = train_test_split(X, Y, test_size = 0.20, random_state = random.randint(1, 1000))"
      ],
      "execution_count": 32,
      "outputs": []
    },
    {
      "cell_type": "code",
      "metadata": {
        "id": "KWcBpVfE6EPk",
        "colab_type": "code",
        "colab": {}
      },
      "source": [
        "batch_size = 32\n",
        "embed_dim = 200"
      ],
      "execution_count": 33,
      "outputs": []
    },
    {
      "cell_type": "code",
      "metadata": {
        "id": "TdnXn9wt694K",
        "colab_type": "code",
        "colab": {}
      },
      "source": [
        "def create_lstm_model():\n",
        "  lstm_out = 196\n",
        "  model = Sequential()\n",
        "  model.add(Embedding(vocab_size, embed_dim, input_length = X_train.shape[1]))\n",
        "  model.add(LSTM(lstm_out))\n",
        "  model.add(Dense(4, activation='softmax'))\n",
        "  model.compile(loss = 'categorical_crossentropy', optimizer='adam', metrics = ['accuracy'])\n",
        "  return model"
      ],
      "execution_count": 34,
      "outputs": []
    },
    {
      "cell_type": "code",
      "metadata": {
        "id": "_IaEDVyYu3_K",
        "colab_type": "code",
        "colab": {}
      },
      "source": [
        "def create_cnn_model():\n",
        "  model = Sequential()\n",
        "  model.add(Embedding(vocab_size, embed_dim, input_length = maxlen))\n",
        "  model.add(Conv1D(128, 5, activation='relu',padding='same'))\n",
        "  model.add(MaxPooling1D(pool_size=2))\n",
        "  model.add(Conv1D(256, 5, activation='relu',padding='same'))\n",
        "  model.add(MaxPooling1D(pool_size=2))\n",
        "  model.add(Conv1D(512, 3, activation='relu',padding='same'))\n",
        "  model.add(MaxPooling1D(pool_size=2))\n",
        "  model.add(Flatten())\n",
        "  model.add(Dense(128, activation='relu'))\n",
        "  model.add(Dropout(0.5))\n",
        "  model.add(Dense(4, activation='sigmoid'))\n",
        "  model.compile(optimizer='adam', loss='categorical_crossentropy', metrics=['accuracy'])\n",
        "\n",
        "  return model"
      ],
      "execution_count": 35,
      "outputs": []
    },
    {
      "cell_type": "code",
      "metadata": {
        "id": "iUY1gmPdACmK",
        "colab_type": "code",
        "colab": {}
      },
      "source": [
        "def get_text_vector(texts):\n",
        "  _texts = tokenizer.texts_to_sequences(texts)\n",
        "  _texts = pad_sequences(_texts, padding='post', maxlen= maxlen)\n",
        "  return _texts"
      ],
      "execution_count": 36,
      "outputs": []
    },
    {
      "cell_type": "code",
      "metadata": {
        "id": "IoYS2Sl_7iCq",
        "colab_type": "code",
        "colab": {}
      },
      "source": [
        "def evaluate_and_get(model_getter, epochs=20):\n",
        "\n",
        "  # get model\n",
        "  model = model_getter()\n",
        "  model.summary()\n",
        "\n",
        "  # train\n",
        "  model.fit(x=X_train, y=Y_train, batch_size=batch_size, epochs=epochs)\n",
        "\n",
        "  # evaluate\n",
        "  model.evaluate(X_valid, Y_valid, verbose=2, batch_size=batch_size)\n",
        "  \n",
        "  return model"
      ],
      "execution_count": 37,
      "outputs": []
    },
    {
      "cell_type": "code",
      "metadata": {
        "id": "xHv4kzxY8hnK",
        "colab_type": "code",
        "colab": {
          "base_uri": "https://localhost:8080/",
          "height": 952
        },
        "outputId": "d8564610-9556-47b8-8fca-b3c45747d4f0"
      },
      "source": [
        "lstm_model = evaluate_and_get(create_lstm_model, epochs=20)"
      ],
      "execution_count": 38,
      "outputs": [
        {
          "output_type": "stream",
          "text": [
            "Model: \"sequential\"\n",
            "_________________________________________________________________\n",
            "Layer (type)                 Output Shape              Param #   \n",
            "=================================================================\n",
            "embedding (Embedding)        (None, 23, 200)           600000    \n",
            "_________________________________________________________________\n",
            "lstm (LSTM)                  (None, 196)               311248    \n",
            "_________________________________________________________________\n",
            "dense (Dense)                (None, 4)                 788       \n",
            "=================================================================\n",
            "Total params: 912,036\n",
            "Trainable params: 912,036\n",
            "Non-trainable params: 0\n",
            "_________________________________________________________________\n",
            "Epoch 1/20\n",
            "49/49 [==============================] - 1s 11ms/step - loss: 0.9235 - accuracy: 0.6377\n",
            "Epoch 2/20\n",
            "49/49 [==============================] - 1s 11ms/step - loss: 0.4471 - accuracy: 0.8249\n",
            "Epoch 3/20\n",
            "49/49 [==============================] - 0s 10ms/step - loss: 0.2288 - accuracy: 0.9208\n",
            "Epoch 4/20\n",
            "49/49 [==============================] - 1s 10ms/step - loss: 0.1576 - accuracy: 0.9572\n",
            "Epoch 5/20\n",
            "49/49 [==============================] - 0s 10ms/step - loss: 0.0943 - accuracy: 0.9744\n",
            "Epoch 6/20\n",
            "49/49 [==============================] - 0s 10ms/step - loss: 0.1414 - accuracy: 0.9591\n",
            "Epoch 7/20\n",
            "49/49 [==============================] - 0s 10ms/step - loss: 0.0761 - accuracy: 0.9764\n",
            "Epoch 8/20\n",
            "49/49 [==============================] - 1s 11ms/step - loss: 0.0467 - accuracy: 0.9885\n",
            "Epoch 9/20\n",
            "49/49 [==============================] - 1s 11ms/step - loss: 0.0529 - accuracy: 0.9879\n",
            "Epoch 10/20\n",
            "49/49 [==============================] - 1s 11ms/step - loss: 0.0565 - accuracy: 0.9872\n",
            "Epoch 11/20\n",
            "49/49 [==============================] - 1s 10ms/step - loss: 0.0677 - accuracy: 0.9789\n",
            "Epoch 12/20\n",
            "49/49 [==============================] - 1s 11ms/step - loss: 0.0429 - accuracy: 0.9891\n",
            "Epoch 13/20\n",
            "49/49 [==============================] - 1s 10ms/step - loss: 0.0396 - accuracy: 0.9891\n",
            "Epoch 14/20\n",
            "49/49 [==============================] - 1s 11ms/step - loss: 0.0410 - accuracy: 0.9904\n",
            "Epoch 15/20\n",
            "49/49 [==============================] - 0s 10ms/step - loss: 0.0344 - accuracy: 0.9904\n",
            "Epoch 16/20\n",
            "49/49 [==============================] - 1s 10ms/step - loss: 0.0304 - accuracy: 0.9917\n",
            "Epoch 17/20\n",
            "49/49 [==============================] - 1s 10ms/step - loss: 0.0263 - accuracy: 0.9923\n",
            "Epoch 18/20\n",
            "49/49 [==============================] - 1s 10ms/step - loss: 0.0372 - accuracy: 0.9885\n",
            "Epoch 19/20\n",
            "49/49 [==============================] - 0s 10ms/step - loss: 0.0210 - accuracy: 0.9942\n",
            "Epoch 20/20\n",
            "49/49 [==============================] - 0s 10ms/step - loss: 0.0368 - accuracy: 0.9898\n",
            "13/13 - 0s - loss: 0.4898 - accuracy: 0.8648\n"
          ],
          "name": "stdout"
        }
      ]
    },
    {
      "cell_type": "code",
      "metadata": {
        "id": "G5J1vIEqBTMU",
        "colab_type": "code",
        "colab": {
          "base_uri": "https://localhost:8080/",
          "height": 214
        },
        "outputId": "a07772d1-fe3b-4dc4-fdf4-d0798ab83416"
      },
      "source": [
        "sample = 'your google verification code is 0'\n",
        "_text = get_text_vector([sample])\n",
        "\n",
        "predictions = model.predict(_text)\n",
        "print(sample, classes[np.argmax(predictions)])"
      ],
      "execution_count": 39,
      "outputs": [
        {
          "output_type": "error",
          "ename": "NameError",
          "evalue": "ignored",
          "traceback": [
            "\u001b[0;31m---------------------------------------------------------------------------\u001b[0m",
            "\u001b[0;31mNameError\u001b[0m                                 Traceback (most recent call last)",
            "\u001b[0;32m<ipython-input-39-be6ffc18b46c>\u001b[0m in \u001b[0;36m<module>\u001b[0;34m()\u001b[0m\n\u001b[1;32m      2\u001b[0m \u001b[0m_text\u001b[0m \u001b[0;34m=\u001b[0m \u001b[0mget_text_vector\u001b[0m\u001b[0;34m(\u001b[0m\u001b[0;34m[\u001b[0m\u001b[0msample\u001b[0m\u001b[0;34m]\u001b[0m\u001b[0;34m)\u001b[0m\u001b[0;34m\u001b[0m\u001b[0;34m\u001b[0m\u001b[0m\n\u001b[1;32m      3\u001b[0m \u001b[0;34m\u001b[0m\u001b[0m\n\u001b[0;32m----> 4\u001b[0;31m \u001b[0mpredictions\u001b[0m \u001b[0;34m=\u001b[0m \u001b[0mmodel\u001b[0m\u001b[0;34m.\u001b[0m\u001b[0mpredict\u001b[0m\u001b[0;34m(\u001b[0m\u001b[0m_text\u001b[0m\u001b[0;34m)\u001b[0m\u001b[0;34m\u001b[0m\u001b[0;34m\u001b[0m\u001b[0m\n\u001b[0m\u001b[1;32m      5\u001b[0m \u001b[0mprint\u001b[0m\u001b[0;34m(\u001b[0m\u001b[0msample\u001b[0m\u001b[0;34m,\u001b[0m \u001b[0mclasses\u001b[0m\u001b[0;34m[\u001b[0m\u001b[0mnp\u001b[0m\u001b[0;34m.\u001b[0m\u001b[0margmax\u001b[0m\u001b[0;34m(\u001b[0m\u001b[0mpredictions\u001b[0m\u001b[0;34m)\u001b[0m\u001b[0;34m]\u001b[0m\u001b[0;34m)\u001b[0m\u001b[0;34m\u001b[0m\u001b[0;34m\u001b[0m\u001b[0m\n",
            "\u001b[0;31mNameError\u001b[0m: name 'model' is not defined"
          ]
        }
      ]
    },
    {
      "cell_type": "code",
      "metadata": {
        "id": "bN8G4-gn82ia",
        "colab_type": "code",
        "colab": {
          "base_uri": "https://localhost:8080/",
          "height": 1000
        },
        "outputId": "2f497759-22b3-43ac-af3a-a01069d1c310"
      },
      "source": [
        "cnn_model = evaluate_and_get(create_cnn_model, epochs=20)"
      ],
      "execution_count": 41,
      "outputs": [
        {
          "output_type": "stream",
          "text": [
            "Model: \"sequential_1\"\n",
            "_________________________________________________________________\n",
            "Layer (type)                 Output Shape              Param #   \n",
            "=================================================================\n",
            "embedding_1 (Embedding)      (None, 23, 200)           600000    \n",
            "_________________________________________________________________\n",
            "conv1d (Conv1D)              (None, 23, 128)           128128    \n",
            "_________________________________________________________________\n",
            "max_pooling1d (MaxPooling1D) (None, 11, 128)           0         \n",
            "_________________________________________________________________\n",
            "conv1d_1 (Conv1D)            (None, 11, 256)           164096    \n",
            "_________________________________________________________________\n",
            "max_pooling1d_1 (MaxPooling1 (None, 5, 256)            0         \n",
            "_________________________________________________________________\n",
            "conv1d_2 (Conv1D)            (None, 5, 512)            393728    \n",
            "_________________________________________________________________\n",
            "max_pooling1d_2 (MaxPooling1 (None, 2, 512)            0         \n",
            "_________________________________________________________________\n",
            "flatten (Flatten)            (None, 1024)              0         \n",
            "_________________________________________________________________\n",
            "dense_1 (Dense)              (None, 128)               131200    \n",
            "_________________________________________________________________\n",
            "dropout (Dropout)            (None, 128)               0         \n",
            "_________________________________________________________________\n",
            "dense_2 (Dense)              (None, 4)                 516       \n",
            "=================================================================\n",
            "Total params: 1,417,668\n",
            "Trainable params: 1,417,668\n",
            "Non-trainable params: 0\n",
            "_________________________________________________________________\n",
            "Epoch 1/20\n",
            "49/49 [==============================] - 1s 12ms/step - loss: 1.0441 - accuracy: 0.5764\n",
            "Epoch 2/20\n",
            "49/49 [==============================] - 1s 10ms/step - loss: 0.6197 - accuracy: 0.7399\n",
            "Epoch 3/20\n",
            "49/49 [==============================] - 0s 9ms/step - loss: 0.3910 - accuracy: 0.8364\n",
            "Epoch 4/20\n",
            "49/49 [==============================] - 0s 10ms/step - loss: 0.2060 - accuracy: 0.9367\n",
            "Epoch 5/20\n",
            "49/49 [==============================] - 0s 9ms/step - loss: 0.1177 - accuracy: 0.9655\n",
            "Epoch 6/20\n",
            "49/49 [==============================] - 1s 11ms/step - loss: 0.0913 - accuracy: 0.9757\n",
            "Epoch 7/20\n",
            "49/49 [==============================] - 1s 10ms/step - loss: 0.0772 - accuracy: 0.9789\n",
            "Epoch 8/20\n",
            "49/49 [==============================] - 1s 11ms/step - loss: 0.0528 - accuracy: 0.9853\n",
            "Epoch 9/20\n",
            "49/49 [==============================] - 1s 11ms/step - loss: 0.0366 - accuracy: 0.9911\n",
            "Epoch 10/20\n",
            "49/49 [==============================] - 1s 11ms/step - loss: 0.0277 - accuracy: 0.9942\n",
            "Epoch 11/20\n",
            "49/49 [==============================] - 1s 10ms/step - loss: 0.0403 - accuracy: 0.9879\n",
            "Epoch 12/20\n",
            "49/49 [==============================] - 1s 11ms/step - loss: 0.0416 - accuracy: 0.9866\n",
            "Epoch 13/20\n",
            "49/49 [==============================] - 0s 10ms/step - loss: 0.0312 - accuracy: 0.9911\n",
            "Epoch 14/20\n",
            "49/49 [==============================] - 0s 10ms/step - loss: 0.0114 - accuracy: 0.9962\n",
            "Epoch 15/20\n",
            "49/49 [==============================] - 0s 10ms/step - loss: 0.0373 - accuracy: 0.9885\n",
            "Epoch 16/20\n",
            "49/49 [==============================] - 0s 10ms/step - loss: 0.0733 - accuracy: 0.9789\n",
            "Epoch 17/20\n",
            "49/49 [==============================] - 0s 10ms/step - loss: 0.0244 - accuracy: 0.9911\n",
            "Epoch 18/20\n",
            "49/49 [==============================] - 0s 10ms/step - loss: 0.0126 - accuracy: 0.9949\n",
            "Epoch 19/20\n",
            "49/49 [==============================] - 0s 10ms/step - loss: 0.0208 - accuracy: 0.9923\n",
            "Epoch 20/20\n",
            "49/49 [==============================] - 0s 10ms/step - loss: 0.0196 - accuracy: 0.9949\n",
            "13/13 - 0s - loss: 1.1529 - accuracy: 0.8724\n"
          ],
          "name": "stdout"
        }
      ]
    },
    {
      "cell_type": "code",
      "metadata": {
        "id": "JftYy4mhBcdF",
        "colab_type": "code",
        "colab": {
          "base_uri": "https://localhost:8080/",
          "height": 34
        },
        "outputId": "0460cb6c-2de0-4b5c-95e6-967631f833bc"
      },
      "source": [
        "sample = 'your google verification code is 0'\n",
        "_text = get_text_vector([sample])\n",
        "\n",
        "predictions = cnn_model.predict(_text)\n",
        "print(sample, classes[np.argmax(predictions)])"
      ],
      "execution_count": 44,
      "outputs": [
        {
          "output_type": "stream",
          "text": [
            "your google verification code is 0 otp\n"
          ],
          "name": "stdout"
        }
      ]
    },
    {
      "cell_type": "markdown",
      "metadata": {
        "id": "aAs93JSNXTW0",
        "colab_type": "text"
      },
      "source": [
        "Convert CNN model to TFLite, LSTMs won't work"
      ]
    },
    {
      "cell_type": "code",
      "metadata": {
        "id": "sUew56VK9lS7",
        "colab_type": "code",
        "colab": {
          "base_uri": "https://localhost:8080/",
          "height": 156
        },
        "outputId": "dc303b98-9c4c-4359-d7a7-e27fa604e35b"
      },
      "source": [
        "converter = tf.lite.TFLiteConverter.from_keras_model(cnn_model)\n",
        "tflite_model = converter.convert()"
      ],
      "execution_count": 45,
      "outputs": [
        {
          "output_type": "stream",
          "text": [
            "WARNING:tensorflow:From /usr/local/lib/python3.6/dist-packages/tensorflow/python/training/tracking/tracking.py:111: Model.state_updates (from tensorflow.python.keras.engine.training) is deprecated and will be removed in a future version.\n",
            "Instructions for updating:\n",
            "This property should not be used in TensorFlow 2.0, as updates are applied automatically.\n",
            "WARNING:tensorflow:From /usr/local/lib/python3.6/dist-packages/tensorflow/python/training/tracking/tracking.py:111: Layer.updates (from tensorflow.python.keras.engine.base_layer) is deprecated and will be removed in a future version.\n",
            "Instructions for updating:\n",
            "This property should not be used in TensorFlow 2.0, as updates are applied automatically.\n",
            "INFO:tensorflow:Assets written to: /tmp/tmpazzp6c_l/assets\n"
          ],
          "name": "stdout"
        }
      ]
    },
    {
      "cell_type": "code",
      "metadata": {
        "id": "wbIQ4YLz9-Kr",
        "colab_type": "code",
        "colab": {}
      },
      "source": [
        "with open('model.tflite', 'wb') as f:\n",
        "  f.write(tflite_model)"
      ],
      "execution_count": 46,
      "outputs": []
    },
    {
      "cell_type": "markdown",
      "metadata": {
        "id": "bY8THMAx_f8i",
        "colab_type": "text"
      },
      "source": [
        "Evaluate TFLite model :D"
      ]
    },
    {
      "cell_type": "code",
      "metadata": {
        "id": "_Zxyva4hB1v8",
        "colab_type": "code",
        "colab": {
          "base_uri": "https://localhost:8080/",
          "height": 35
        },
        "outputId": "3093b726-d659-4251-8201-aab5ce7a9573"
      },
      "source": [
        "interpreter = tf.lite.Interpreter(model_path=\"model.tflite\")\n",
        "interpreter.allocate_tensors()\n",
        "\n",
        "input_details = interpreter.get_input_details()\n",
        "output_details = interpreter.get_output_details()\n",
        "\n",
        "input_shape = input_details[0]['shape']\n",
        "\n",
        "sample = 'your google verification code is 0'\n",
        "_text = get_text_vector([sample])\n",
        "\n",
        "interpreter.set_tensor(input_details[0]['index'], _text.astype(np.float32))\n",
        "\n",
        "interpreter.invoke()\n",
        " \n",
        "output_data = interpreter.get_tensor(output_details[0]['index'])\n",
        "classes[np.argmax(output_data)]"
      ],
      "execution_count": 48,
      "outputs": [
        {
          "output_type": "execute_result",
          "data": {
            "application/vnd.google.colaboratory.intrinsic+json": {
              "type": "string"
            },
            "text/plain": [
              "'otp'"
            ]
          },
          "metadata": {
            "tags": []
          },
          "execution_count": 48
        }
      ]
    },
    {
      "cell_type": "code",
      "metadata": {
        "id": "auN3rMv7XmXc",
        "colab_type": "code",
        "colab": {}
      },
      "source": [
        "meta = {\n",
        "    'classes': list(classes),\n",
        "    'index': tokenizer.word_index\n",
        "}"
      ],
      "execution_count": 55,
      "outputs": []
    },
    {
      "cell_type": "code",
      "metadata": {
        "id": "PErmkoZQN-Dq",
        "colab_type": "code",
        "colab": {}
      },
      "source": [
        "with open('meta.json', 'w') as f:\n",
        "  f.write(json.dumps(meta))"
      ],
      "execution_count": 57,
      "outputs": []
    },
    {
      "cell_type": "code",
      "metadata": {
        "id": "hdaISAQFYH2q",
        "colab_type": "code",
        "colab": {}
      },
      "source": [
        ""
      ],
      "execution_count": null,
      "outputs": []
    }
  ]
}